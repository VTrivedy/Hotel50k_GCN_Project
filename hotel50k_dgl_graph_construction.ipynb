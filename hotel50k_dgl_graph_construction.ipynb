{
 "cells": [
  {
   "cell_type": "markdown",
   "metadata": {},
   "source": [
    "# Hotel 50-k Graph Construction\n",
    "In this notebook we will construct the two graphs for our supervised and unsupervised data for the Hotel-50k dataset."
   ]
  },
  {
   "cell_type": "code",
   "execution_count": 1,
   "metadata": {},
   "outputs": [
    {
     "name": "stderr",
     "output_type": "stream",
     "text": [
      "Using backend: pytorch\n"
     ]
    }
   ],
   "source": [
    "import numpy as np\n",
    "import pandas as pd\n",
    "import torch as th\n",
    "import dgl\n",
    "import scipy\n",
    "import networkx as nx"
   ]
  },
  {
   "cell_type": "code",
   "execution_count": 2,
   "metadata": {},
   "outputs": [],
   "source": [
    "#load in our data - ~1mil rows per dataset\n",
    "sup_neighbors = np.load('hotel50k_graph_data/neighbors_sup.npy')\n",
    "unsup_neighbors = np.load('hotel50k_graph_data/neighbors_unsup.npy')\n",
    "node_names = np.load('hotel50k_graph_data/train_images_name.npy')\n",
    "node_features = np.load('hotel50k_graph_data/db_vectors.npy')"
   ]
  },
  {
   "cell_type": "markdown",
   "metadata": {},
   "source": [
    "## Graph Construction"
   ]
  },
  {
   "cell_type": "code",
   "execution_count": 3,
   "metadata": {},
   "outputs": [],
   "source": [
    "#initialize the number of nodes and neighbors as two variables for ease of reference\n",
    "#these dimensions are the same for the sup and unsup matrices\n",
    "n = unsup_neighbors.shape[0]\n",
    "m = unsup_neighbors.shape[1]\n",
    "index = list(range(n))"
   ]
  },
  {
   "cell_type": "markdown",
   "metadata": {},
   "source": [
    "### Unuspervised Graph"
   ]
  },
  {
   "cell_type": "code",
   "execution_count": 4,
   "metadata": {},
   "outputs": [],
   "source": [
    "#use pandas to create an adjacency list as a dict of lists --> {0:[76,23,90], ...}\n",
    "unsup_df = pd.DataFrame(data = unsup_neighbors, index=index)\n",
    "\n",
    "#filter from 100 neighbors to 25 neighbors\n",
    "unsup_df = unsup_df.iloc[:,0:25]\n",
    "unsup_adj_list = unsup_df.T.to_dict('list')"
   ]
  },
  {
   "cell_type": "code",
   "execution_count": 5,
   "metadata": {},
   "outputs": [],
   "source": [
    "#construct unsupervised dgl graph with intermediate networkx graph representation\n",
    "unsup_dgl_graph = dgl.from_networkx(nx.from_dict_of_lists(unsup_adj_list,nx.DiGraph))"
   ]
  },
  {
   "cell_type": "markdown",
   "metadata": {},
   "source": [
    "### Supervised Graph"
   ]
  },
  {
   "cell_type": "code",
   "execution_count": 6,
   "metadata": {},
   "outputs": [],
   "source": [
    "#use pandas to create an adjacency list as a dict of lists --> {0:[76,23,90], ...}\n",
    "sup_df = pd.DataFrame(data = sup_neighbors, index=index)\n",
    "\n",
    "#filter from 100 neighbors to 25 neighbors\n",
    "sup_df = sup_df.iloc[:,0:25]\n",
    "sup_adj_list = sup_df.T.to_dict('list')"
   ]
  },
  {
   "cell_type": "code",
   "execution_count": 7,
   "metadata": {},
   "outputs": [],
   "source": [
    "#some classes do not have 25 neighbors and have a -1 --> problem\n",
    "#filter out the -1s in our adjacency matrix before constructing graph\n",
    "for k,v in sup_adj_list.items():\n",
    "    sup_adj_list[k] = [x for x in v if x!= -1]"
   ]
  },
  {
   "cell_type": "code",
   "execution_count": 8,
   "metadata": {},
   "outputs": [],
   "source": [
    "#construct supervised dgl graph with intermediate networkx graph representation\n",
    "sup_dgl_graph = dgl.from_networkx(nx.from_dict_of_lists(sup_adj_list, nx.DiGraph))"
   ]
  },
  {
   "cell_type": "markdown",
   "metadata": {},
   "source": [
    "### Save Graphs"
   ]
  },
  {
   "cell_type": "code",
   "execution_count": 9,
   "metadata": {},
   "outputs": [],
   "source": [
    "#save each graph object\n",
    "from dgl.data.utils import save_graphs\n",
    "graph_labels = {\"glabel\": th.tensor([0,1])}\n",
    "save_graphs(\"./data.bin\", [unsup_dgl_graph, sup_dgl_graph], graph_labels)"
   ]
  },
  {
   "cell_type": "code",
   "execution_count": 3,
   "metadata": {},
   "outputs": [],
   "source": [
    "from dgl.data.utils import load_graphs\n",
    "glist, label_dict = load_graphs(\"./data.bin\")"
   ]
  },
  {
   "cell_type": "code",
   "execution_count": 6,
   "metadata": {},
   "outputs": [],
   "source": [
    "glist\n",
    "unsup_dgl_graph = glist[0]\n",
    "sup_dgl_graph = glist[1]"
   ]
  },
  {
   "cell_type": "markdown",
   "metadata": {},
   "source": [
    "### Add Features and Labels to Graphs"
   ]
  },
  {
   "cell_type": "code",
   "execution_count": 7,
   "metadata": {},
   "outputs": [],
   "source": [
    "#pass in features to graph as a tensor\n",
    "#features extracted via MobileNet\n",
    "unsup_dgl_graph.ndata['features'] = th.tensor(node_features)\n",
    "sup_dgl_graph.ndata['features'] = th.tensor(node_features)"
   ]
  },
  {
   "cell_type": "code",
   "execution_count": 18,
   "metadata": {},
   "outputs": [],
   "source": [
    "#extract node labels from image string\n",
    "#there are a 646140 labels that are -1 --> not part of a chain --> may be a problem in training will see results and remove them if necessary\n",
    "temp_node_names = node_names.tolist()\n",
    "temp_node_names = [int(s.split('/')[0]) for s in temp_node_names]\n",
    "\n",
    "#pass in labels to our graphs\n",
    "unsup_dgl_graph.ndata['label'] = th.tensor(temp_node_names)\n",
    "sup_dgl_graph.ndata['label'] = th.tensor(temp_node_names)"
   ]
  },
  {
   "cell_type": "code",
   "execution_count": null,
   "metadata": {},
   "outputs": [],
   "source": [
    "sup_dgl_graph.nodes[0].data"
   ]
  },
  {
   "cell_type": "markdown",
   "metadata": {},
   "source": [
    "### Save Final Graphs w/ Features/Labels"
   ]
  },
  {
   "cell_type": "code",
   "execution_count": 21,
   "metadata": {},
   "outputs": [],
   "source": [
    "#save each graph object\n",
    "from dgl.data.utils import save_graphs\n",
    "graph_labels = {\"glabel\": th.tensor([0,1])}\n",
    "save_graphs(\"./data_final.bin\", [unsup_dgl_graph, sup_dgl_graph], graph_labels)"
   ]
  },
  {
   "cell_type": "code",
   "execution_count": null,
   "metadata": {},
   "outputs": [],
   "source": []
  }
 ],
 "metadata": {
  "kernelspec": {
   "display_name": "Python 3",
   "language": "python",
   "name": "python3"
  },
  "language_info": {
   "codemirror_mode": {
    "name": "ipython",
    "version": 3
   },
   "file_extension": ".py",
   "mimetype": "text/x-python",
   "name": "python",
   "nbconvert_exporter": "python",
   "pygments_lexer": "ipython3",
   "version": "3.6.9"
  }
 },
 "nbformat": 4,
 "nbformat_minor": 4
}
