{
 "cells": [
  {
   "cell_type": "markdown",
   "metadata": {},
   "source": [
    "# Hotel 50-k Graph Construction\n",
    "In this notebook we will construct the two graphs for our supervised and unsupervised data for the Hotel-50k dataset."
   ]
  },
  {
   "cell_type": "code",
   "execution_count": 2,
   "metadata": {},
   "outputs": [
    {
     "name": "stderr",
     "output_type": "stream",
     "text": [
      "Using backend: pytorch\n"
     ]
    }
   ],
   "source": [
    "import numpy as np\n",
    "import pandas as pd\n",
    "import torch as th\n",
    "import dgl\n",
    "import scipy\n",
    "import networkx as nx"
   ]
  },
  {
   "cell_type": "code",
   "execution_count": 8,
   "metadata": {},
   "outputs": [],
   "source": [
    "#load in our data - ~1mil rows per dataset\n",
    "sup_neighbors = np.load('hotel50k_graph_data/neighbors_sup.npy')\n",
    "unsup_neighbors = np.load('hotel50k_graph_data/neighbors_unsup.npy')\n",
    "node_names = np.load('hotel50k_graph_data/train_images_name.npy')\n",
    "node_features = np.load('hotel50k_graph_data/db_vectors.npy')"
   ]
  },
  {
   "cell_type": "markdown",
   "metadata": {},
   "source": [
    "## Graph Construction"
   ]
  },
  {
   "cell_type": "code",
   "execution_count": 5,
   "metadata": {},
   "outputs": [],
   "source": [
    "#initialize the number of nodes and neighbors as two variables for ease of reference\n",
    "#these dimensions are the same for the sup and unsup matrices\n",
    "n = unsup_neighbors.shape[0]\n",
    "m = unsup_neighbors.shape[1]\n",
    "index = list(range(n))"
   ]
  },
  {
   "cell_type": "markdown",
   "metadata": {},
   "source": [
    "### Unuspervised Graph"
   ]
  },
  {
   "cell_type": "code",
   "execution_count": 6,
   "metadata": {},
   "outputs": [],
   "source": [
    "#use pandas to create an adjacency list as a dict of lists --> {0:[76,23,90], ...}\n",
    "unsup_df = pd.DataFrame(data = unsup_neighbors, index=index)\n",
    "\n",
    "#filter from 100 neighbors to 25 neighbors\n",
    "unsup_df = unsup_df.iloc[:,0:25]\n",
    "unsup_adj_list = unsup_df.T.to_dict('list')"
   ]
  },
  {
   "cell_type": "code",
   "execution_count": null,
   "metadata": {},
   "outputs": [],
   "source": [
    "#construct unsupervised dgl graph with intermediate networkx graph representation\n",
    "unsup_dgl_graph = dgl.from_networkx(nx.Graph(unsup_adj_list))"
   ]
  },
  {
   "cell_type": "markdown",
   "metadata": {},
   "source": [
    "### Supervised Graph"
   ]
  },
  {
   "cell_type": "code",
   "execution_count": null,
   "metadata": {},
   "outputs": [],
   "source": [
    "#use pandas to create an adjacency list as a dict of lists --> {0:[76,23,90], ...}\n",
    "sup_df = pd.DataFrame(data = sup_neighbors, index=index)\n",
    "\n",
    "#filter from 100 neighbors to 25 neighbors\n",
    "sup_df = sup_df.iloc[:,0:25]\n",
    "sup_adj_list = sup_df.T.to_dict('list')"
   ]
  },
  {
   "cell_type": "code",
   "execution_count": null,
   "metadata": {},
   "outputs": [],
   "source": [
    "#construct supervised dgl graph with intermediate networkx graph representation\n",
    "sup_dgl_graph = dgl.from_networkx(nx.Graph(sup_adj_list))"
   ]
  }
 ],
 "metadata": {
  "kernelspec": {
   "display_name": "Python 3",
   "language": "python",
   "name": "python3"
  },
  "language_info": {
   "codemirror_mode": {
    "name": "ipython",
    "version": 3
   },
   "file_extension": ".py",
   "mimetype": "text/x-python",
   "name": "python",
   "nbconvert_exporter": "python",
   "pygments_lexer": "ipython3",
   "version": "3.6.9"
  }
 },
 "nbformat": 4,
 "nbformat_minor": 4
}
