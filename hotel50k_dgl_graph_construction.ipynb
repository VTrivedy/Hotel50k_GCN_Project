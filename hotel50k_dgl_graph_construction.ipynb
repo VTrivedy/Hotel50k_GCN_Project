{
 "cells": [
  {
   "cell_type": "markdown",
   "metadata": {},
   "source": [
    "# Hotel 50-k Graph Construction\n",
    "In this notebook we will construct the two graphs for our supervised and unsupervised data for the Hotel-50k dataset."
   ]
  },
  {
   "cell_type": "code",
   "execution_count": 1,
   "metadata": {},
   "outputs": [
    {
     "name": "stderr",
     "output_type": "stream",
     "text": [
      "Using backend: pytorch\n"
     ]
    }
   ],
   "source": [
    "import numpy as np\n",
    "import pandas as pd\n",
    "import torch as th\n",
    "import dgl\n",
    "import scipy\n",
    "import networkx as nx"
   ]
  },
  {
   "cell_type": "code",
   "execution_count": 15,
   "metadata": {},
   "outputs": [],
   "source": [
    "#load in our data - ~1mil rows per dataset\n",
    "sup_neighbors = np.load('hotel50k_graph_data/neighbors_sup.npy')\n",
    "unsup_neighbors = np.load('hotel50k_graph_data/neighbors_unsup.npy')\n",
    "node_names = np.load('hotel50k_graph_data/train_images_name.npy')\n",
    "node_features = np.load('hotel50k_graph_data/db_vectors.npy')"
   ]
  },
  {
   "cell_type": "markdown",
   "metadata": {},
   "source": [
    "## Graph Construction"
   ]
  },
  {
   "cell_type": "code",
   "execution_count": 3,
   "metadata": {},
   "outputs": [],
   "source": [
    "#initialize the number of nodes and neighbors as two variables for ease of reference\n",
    "#these dimensions are the same for the sup and unsup matrices\n",
    "n = unsup_neighbors.shape[0]\n",
    "m = unsup_neighbors.shape[1]\n",
    "index = list(range(n))"
   ]
  },
  {
   "cell_type": "markdown",
   "metadata": {},
   "source": [
    "### Unuspervised Graph"
   ]
  },
  {
   "cell_type": "code",
   "execution_count": 4,
   "metadata": {},
   "outputs": [],
   "source": [
    "#use pandas to create an adjacency list as a dict of lists --> {0:[76,23,90], ...}\n",
    "unsup_df = pd.DataFrame(data = unsup_neighbors, index=index)\n",
    "\n",
    "#filter from 100 neighbors to 25 neighbors\n",
    "unsup_df = unsup_df.iloc[:,0:25]\n",
    "unsup_adj_list = unsup_df.T.to_dict('list')"
   ]
  },
  {
   "cell_type": "code",
   "execution_count": 5,
   "metadata": {},
   "outputs": [],
   "source": [
    "#construct unsupervised dgl graph with intermediate networkx graph representation\n",
    "unsup_dgl_graph = dgl.from_networkx(nx.from_dict_of_lists(unsup_adj_list,nx.DiGraph))"
   ]
  },
  {
   "cell_type": "markdown",
   "metadata": {},
   "source": [
    "### Supervised Graph"
   ]
  },
  {
   "cell_type": "code",
   "execution_count": 6,
   "metadata": {},
   "outputs": [],
   "source": [
    "#use pandas to create an adjacency list as a dict of lists --> {0:[76,23,90], ...}\n",
    "sup_df = pd.DataFrame(data = sup_neighbors, index=index)\n",
    "\n",
    "#filter from 100 neighbors to 25 neighbors\n",
    "sup_df = sup_df.iloc[:,0:25]\n",
    "sup_adj_list = sup_df.T.to_dict('list')"
   ]
  },
  {
   "cell_type": "code",
   "execution_count": 7,
   "metadata": {},
   "outputs": [],
   "source": [
    "#some classes do not have 25 neighbors and have a -1 --> problem\n",
    "#filter out the -1s in our adjacency matrix before constructing graph\n",
    "for k,v in sup_adj_list.items():\n",
    "    sup_adj_list[k] = [x for x in v if x!= -1]"
   ]
  },
  {
   "cell_type": "code",
   "execution_count": 8,
   "metadata": {},
   "outputs": [],
   "source": [
    "#construct supervised dgl graph with intermediate networkx graph representation\n",
    "sup_dgl_graph = dgl.from_networkx(nx.from_dict_of_lists(sup_adj_list, nx.DiGraph))"
   ]
  },
  {
   "cell_type": "markdown",
   "metadata": {},
   "source": [
    "### Save Graphs"
   ]
  },
  {
   "cell_type": "code",
   "execution_count": 9,
   "metadata": {},
   "outputs": [],
   "source": [
    "#save each graph object\n",
    "from dgl.data.utils import save_graphs\n",
    "graph_labels = {\"glabel\": th.tensor([0,1])}\n",
    "save_graphs(\"./data.bin\", [unsup_dgl_graph, sup_dgl_graph], graph_labels)"
   ]
  },
  {
   "cell_type": "code",
   "execution_count": 11,
   "metadata": {},
   "outputs": [],
   "source": [
    "from dgl.data.utils import load_graphs\n",
    "glist, label_dict = load_graphs(\"./data.bin\")"
   ]
  },
  {
   "cell_type": "code",
   "execution_count": 12,
   "metadata": {},
   "outputs": [
    {
     "data": {
      "text/plain": [
       "[Graph(num_nodes=1085862, num_edges=27146550,\n",
       "       ndata_schemes={}\n",
       "       edata_schemes={}),\n",
       " Graph(num_nodes=1085862, num_edges=27146400,\n",
       "       ndata_schemes={}\n",
       "       edata_schemes={})]"
      ]
     },
     "execution_count": 12,
     "metadata": {},
     "output_type": "execute_result"
    }
   ],
   "source": [
    "glist"
   ]
  },
  {
   "cell_type": "markdown",
   "metadata": {},
   "source": [
    "### Add Features and Labels to Graphs"
   ]
  },
  {
   "cell_type": "code",
   "execution_count": 32,
   "metadata": {},
   "outputs": [],
   "source": [
    "#pass in features to graph as a tensor\n",
    "#features extracted via MobileNet\n",
    "unsup_dgl_graph.ndata['features'] = th.tensor(node_features)\n",
    "sup_dgl_graph.ndata['features'] = th.tensor(node_features)"
   ]
  },
  {
   "cell_type": "code",
   "execution_count": 38,
   "metadata": {},
   "outputs": [
    {
     "data": {
      "text/plain": [
       "array(['82/87997/traffickcam/3908818.jpg',\n",
       "       '82/87997/travel_website/6546706.jpg',\n",
       "       '82/87997/travel_website/6546695.jpg', ...,\n",
       "       '88/34589/travel_website/7311681.jpg',\n",
       "       '88/34589/travel_website/7311687.jpg',\n",
       "       '88/34589/travel_website/7311689.jpg'], dtype='<U37')"
      ]
     },
     "execution_count": 38,
     "metadata": {},
     "output_type": "execute_result"
    }
   ],
   "source": [
    "node_names"
   ]
  },
  {
   "cell_type": "code",
   "execution_count": 45,
   "metadata": {},
   "outputs": [
    {
     "data": {
      "text/plain": [
       "{-1,\n",
       " 0,\n",
       " 1,\n",
       " 2,\n",
       " 3,\n",
       " 4,\n",
       " 5,\n",
       " 6,\n",
       " 7,\n",
       " 9,\n",
       " 10,\n",
       " 11,\n",
       " 12,\n",
       " 13,\n",
       " 14,\n",
       " 15,\n",
       " 16,\n",
       " 17,\n",
       " 18,\n",
       " 19,\n",
       " 20,\n",
       " 21,\n",
       " 22,\n",
       " 23,\n",
       " 24,\n",
       " 25,\n",
       " 26,\n",
       " 27,\n",
       " 28,\n",
       " 29,\n",
       " 30,\n",
       " 31,\n",
       " 32,\n",
       " 33,\n",
       " 34,\n",
       " 35,\n",
       " 36,\n",
       " 37,\n",
       " 38,\n",
       " 39,\n",
       " 40,\n",
       " 41,\n",
       " 42,\n",
       " 43,\n",
       " 44,\n",
       " 45,\n",
       " 46,\n",
       " 47,\n",
       " 48,\n",
       " 49,\n",
       " 50,\n",
       " 51,\n",
       " 52,\n",
       " 53,\n",
       " 54,\n",
       " 55,\n",
       " 56,\n",
       " 57,\n",
       " 58,\n",
       " 59,\n",
       " 60,\n",
       " 61,\n",
       " 62,\n",
       " 63,\n",
       " 64,\n",
       " 65,\n",
       " 66,\n",
       " 67,\n",
       " 68,\n",
       " 69,\n",
       " 70,\n",
       " 71,\n",
       " 72,\n",
       " 73,\n",
       " 74,\n",
       " 75,\n",
       " 76,\n",
       " 77,\n",
       " 78,\n",
       " 79,\n",
       " 80,\n",
       " 81,\n",
       " 82,\n",
       " 83,\n",
       " 84,\n",
       " 85,\n",
       " 86,\n",
       " 87,\n",
       " 88,\n",
       " 89,\n",
       " 90,\n",
       " 91,\n",
       " 92}"
      ]
     },
     "execution_count": 45,
     "metadata": {},
     "output_type": "execute_result"
    }
   ],
   "source": [
    "#extract node labels from image string\n",
    "temp_node_names = node_names.tolist()\n",
    "temp_node_names = [int(s.split('/')[0]) for s in temp_node_names]\n",
    "\n",
    "set(temp_node_names)"
   ]
  },
  {
   "cell_type": "code",
   "execution_count": 44,
   "metadata": {},
   "outputs": [
    {
     "data": {
      "text/plain": [
       "array([-1, -1, -1, ..., -1, -1, -1])"
      ]
     },
     "execution_count": 44,
     "metadata": {},
     "output_type": "execute_result"
    }
   ],
   "source": [
    "temp = np.array(temp_node_names)\n",
    "temp[temp<0]"
   ]
  },
  {
   "cell_type": "code",
   "execution_count": 46,
   "metadata": {},
   "outputs": [
    {
     "data": {
      "text/plain": [
       "array(['82/87997/traffickcam/3908818.jpg',\n",
       "       '82/87997/travel_website/6546706.jpg',\n",
       "       '82/87997/travel_website/6546695.jpg', ...,\n",
       "       '88/34589/travel_website/7311681.jpg',\n",
       "       '88/34589/travel_website/7311687.jpg',\n",
       "       '88/34589/travel_website/7311689.jpg'], dtype='<U37')"
      ]
     },
     "execution_count": 46,
     "metadata": {},
     "output_type": "execute_result"
    }
   ],
   "source": [
    "node_names"
   ]
  },
  {
   "cell_type": "code",
   "execution_count": null,
   "metadata": {},
   "outputs": [],
   "source": []
  }
 ],
 "metadata": {
  "kernelspec": {
   "display_name": "Python 3",
   "language": "python",
   "name": "python3"
  },
  "language_info": {
   "codemirror_mode": {
    "name": "ipython",
    "version": 3
   },
   "file_extension": ".py",
   "mimetype": "text/x-python",
   "name": "python",
   "nbconvert_exporter": "python",
   "pygments_lexer": "ipython3",
   "version": "3.6.9"
  }
 },
 "nbformat": 4,
 "nbformat_minor": 4
}
